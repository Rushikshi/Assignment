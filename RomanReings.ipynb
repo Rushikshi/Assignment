{
 "cells": [
  {
   "cell_type": "markdown",
   "id": "a70462cc",
   "metadata": {},
   "source": [
    "STRING METHODS"
   ]
  },
  {
   "cell_type": "code",
   "execution_count": 1,
   "id": "0c27e6dc",
   "metadata": {
    "ExecuteTime": {
     "end_time": "2022-11-23T05:51:09.991910Z",
     "start_time": "2022-11-23T05:51:09.973954Z"
    }
   },
   "outputs": [],
   "source": [
    "#CREATE STRING\n",
    "s = 'we are learning python'"
   ]
  },
  {
   "cell_type": "code",
   "execution_count": 2,
   "id": "cdd59b06",
   "metadata": {
    "ExecuteTime": {
     "end_time": "2022-11-23T05:51:16.409693Z",
     "start_time": "2022-11-23T05:51:16.368641Z"
    }
   },
   "outputs": [
    {
     "data": {
      "text/plain": [
       "'we are learning python'"
      ]
     },
     "execution_count": 2,
     "metadata": {},
     "output_type": "execute_result"
    }
   ],
   "source": [
    "s"
   ]
  },
  {
   "cell_type": "code",
   "execution_count": 3,
   "id": "b94d9b09",
   "metadata": {
    "ExecuteTime": {
     "end_time": "2022-11-23T05:51:25.484693Z",
     "start_time": "2022-11-23T05:51:25.469506Z"
    }
   },
   "outputs": [
    {
     "data": {
      "text/plain": [
       "'We are learning python'"
      ]
     },
     "execution_count": 3,
     "metadata": {},
     "output_type": "execute_result"
    }
   ],
   "source": [
    "s.capitalize()"
   ]
  },
  {
   "cell_type": "markdown",
   "id": "0efd6861",
   "metadata": {},
   "source": [
    "TYPECASTING"
   ]
  },
  {
   "cell_type": "code",
   "execution_count": 5,
   "id": "99e5ce81",
   "metadata": {
    "ExecuteTime": {
     "end_time": "2022-11-23T05:53:35.434539Z",
     "start_time": "2022-11-23T05:53:35.423455Z"
    }
   },
   "outputs": [
    {
     "data": {
      "text/plain": [
       "float"
      ]
     },
     "execution_count": 5,
     "metadata": {},
     "output_type": "execute_result"
    }
   ],
   "source": [
    "a = 10.3\n",
    "type(a)"
   ]
  },
  {
   "cell_type": "code",
   "execution_count": 6,
   "id": "8abef60e",
   "metadata": {
    "ExecuteTime": {
     "end_time": "2022-11-23T05:53:44.492688Z",
     "start_time": "2022-11-23T05:53:44.482927Z"
    }
   },
   "outputs": [
    {
     "data": {
      "text/plain": [
       "10.3"
      ]
     },
     "execution_count": 6,
     "metadata": {},
     "output_type": "execute_result"
    }
   ],
   "source": [
    "a"
   ]
  },
  {
   "cell_type": "code",
   "execution_count": 7,
   "id": "0e79efb1",
   "metadata": {
    "ExecuteTime": {
     "end_time": "2022-11-23T05:54:16.879411Z",
     "start_time": "2022-11-23T05:54:16.862516Z"
    }
   },
   "outputs": [
    {
     "data": {
      "text/plain": [
       "int"
      ]
     },
     "execution_count": 7,
     "metadata": {},
     "output_type": "execute_result"
    }
   ],
   "source": [
    "a = int(a)\n",
    "type(a)"
   ]
  },
  {
   "cell_type": "code",
   "execution_count": 8,
   "id": "42a4e42a",
   "metadata": {
    "ExecuteTime": {
     "end_time": "2022-11-23T05:55:00.899616Z",
     "start_time": "2022-11-23T05:55:00.879066Z"
    }
   },
   "outputs": [
    {
     "name": "stdout",
     "output_type": "stream",
     "text": [
      "<class 'str'>\n"
     ]
    }
   ],
   "source": [
    "a = str(a)\n",
    "print(type(a))"
   ]
  },
  {
   "cell_type": "code",
   "execution_count": 9,
   "id": "54f58124",
   "metadata": {
    "ExecuteTime": {
     "end_time": "2022-11-23T05:55:43.282620Z",
     "start_time": "2022-11-23T05:55:43.262616Z"
    }
   },
   "outputs": [],
   "source": [
    "k = 10"
   ]
  },
  {
   "cell_type": "code",
   "execution_count": null,
   "id": "6628bc96",
   "metadata": {},
   "outputs": [],
   "source": [
    "float()"
   ]
  },
  {
   "cell_type": "code",
   "execution_count": 10,
   "id": "7c4dc6a6",
   "metadata": {
    "ExecuteTime": {
     "end_time": "2022-11-23T05:57:06.449784Z",
     "start_time": "2022-11-23T05:57:06.432610Z"
    }
   },
   "outputs": [],
   "source": [
    "e = 'we are learning python'"
   ]
  },
  {
   "cell_type": "code",
   "execution_count": 11,
   "id": "70a59ee5",
   "metadata": {
    "ExecuteTime": {
     "end_time": "2022-11-23T05:57:09.830845Z",
     "start_time": "2022-11-23T05:57:09.813075Z"
    }
   },
   "outputs": [
    {
     "data": {
      "text/plain": [
       "'we are learning python'"
      ]
     },
     "execution_count": 11,
     "metadata": {},
     "output_type": "execute_result"
    }
   ],
   "source": [
    "e"
   ]
  },
  {
   "cell_type": "code",
   "execution_count": 14,
   "id": "53220b8f",
   "metadata": {
    "ExecuteTime": {
     "end_time": "2022-11-23T05:57:51.698195Z",
     "start_time": "2022-11-23T05:57:51.674938Z"
    }
   },
   "outputs": [
    {
     "data": {
      "text/plain": [
       "1"
      ]
     },
     "execution_count": 14,
     "metadata": {},
     "output_type": "execute_result"
    }
   ],
   "source": [
    "s.count('i')"
   ]
  },
  {
   "cell_type": "code",
   "execution_count": 15,
   "id": "6cdae253",
   "metadata": {
    "ExecuteTime": {
     "end_time": "2022-11-23T05:58:13.141572Z",
     "start_time": "2022-11-23T05:58:13.116999Z"
    }
   },
   "outputs": [
    {
     "data": {
      "text/plain": [
       "3"
      ]
     },
     "execution_count": 15,
     "metadata": {},
     "output_type": "execute_result"
    }
   ],
   "source": [
    "s.count('e')"
   ]
  },
  {
   "cell_type": "code",
   "execution_count": 16,
   "id": "869c7001",
   "metadata": {
    "ExecuteTime": {
     "end_time": "2022-11-23T05:58:39.891370Z",
     "start_time": "2022-11-23T05:58:39.871410Z"
    }
   },
   "outputs": [
    {
     "data": {
      "text/plain": [
       "True"
      ]
     },
     "execution_count": 16,
     "metadata": {},
     "output_type": "execute_result"
    }
   ],
   "source": [
    "s.endswith('n')"
   ]
  },
  {
   "cell_type": "code",
   "execution_count": 17,
   "id": "7768770f",
   "metadata": {
    "ExecuteTime": {
     "end_time": "2022-11-23T05:58:43.873722Z",
     "start_time": "2022-11-23T05:58:43.858563Z"
    }
   },
   "outputs": [
    {
     "data": {
      "text/plain": [
       "'we are learning python'"
      ]
     },
     "execution_count": 17,
     "metadata": {},
     "output_type": "execute_result"
    }
   ],
   "source": [
    "s"
   ]
  },
  {
   "cell_type": "code",
   "execution_count": 18,
   "id": "3601eaf3",
   "metadata": {
    "ExecuteTime": {
     "end_time": "2022-11-23T05:59:02.639952Z",
     "start_time": "2022-11-23T05:59:02.620811Z"
    }
   },
   "outputs": [
    {
     "data": {
      "text/plain": [
       "3"
      ]
     },
     "execution_count": 18,
     "metadata": {},
     "output_type": "execute_result"
    }
   ],
   "source": [
    "s.find('are')"
   ]
  },
  {
   "cell_type": "code",
   "execution_count": 19,
   "id": "e878489e",
   "metadata": {
    "ExecuteTime": {
     "end_time": "2022-11-23T05:59:45.351629Z",
     "start_time": "2022-11-23T05:59:45.342807Z"
    }
   },
   "outputs": [],
   "source": [
    "s = \"We are learning python\""
   ]
  },
  {
   "cell_type": "code",
   "execution_count": 20,
   "id": "acd6f887",
   "metadata": {
    "ExecuteTime": {
     "end_time": "2022-11-23T06:00:11.291969Z",
     "start_time": "2022-11-23T06:00:11.275210Z"
    }
   },
   "outputs": [
    {
     "data": {
      "text/plain": [
       "16"
      ]
     },
     "execution_count": 20,
     "metadata": {},
     "output_type": "execute_result"
    }
   ],
   "source": [
    "s.index('p')"
   ]
  },
  {
   "cell_type": "code",
   "execution_count": 21,
   "id": "9433e509",
   "metadata": {
    "ExecuteTime": {
     "end_time": "2022-11-23T06:01:02.965927Z",
     "start_time": "2022-11-23T06:01:02.943911Z"
    }
   },
   "outputs": [
    {
     "data": {
      "text/plain": [
       "False"
      ]
     },
     "execution_count": 21,
     "metadata": {},
     "output_type": "execute_result"
    }
   ],
   "source": [
    "s.islower()"
   ]
  },
  {
   "cell_type": "code",
   "execution_count": 22,
   "id": "bae6c13e",
   "metadata": {
    "ExecuteTime": {
     "end_time": "2022-11-23T06:01:27.596618Z",
     "start_time": "2022-11-23T06:01:27.581773Z"
    }
   },
   "outputs": [
    {
     "data": {
      "text/plain": [
       "'W#e# #a#r#e# #l#e#a#r#n#i#n#g# #p#y#t#h#o#n'"
      ]
     },
     "execution_count": 22,
     "metadata": {},
     "output_type": "execute_result"
    }
   ],
   "source": [
    "'#'.join(s)"
   ]
  },
  {
   "cell_type": "code",
   "execution_count": 23,
   "id": "f7901b0b",
   "metadata": {
    "ExecuteTime": {
     "end_time": "2022-11-23T06:01:36.453827Z",
     "start_time": "2022-11-23T06:01:36.437831Z"
    }
   },
   "outputs": [
    {
     "data": {
      "text/plain": [
       "'We are learning python'"
      ]
     },
     "execution_count": 23,
     "metadata": {},
     "output_type": "execute_result"
    }
   ],
   "source": [
    "s"
   ]
  },
  {
   "cell_type": "code",
   "execution_count": 24,
   "id": "db275ddc",
   "metadata": {
    "ExecuteTime": {
     "end_time": "2022-11-23T06:02:20.137373Z",
     "start_time": "2022-11-23T06:02:20.123433Z"
    }
   },
   "outputs": [],
   "source": [
    "s = s.replace(' ', '-')"
   ]
  },
  {
   "cell_type": "code",
   "execution_count": 25,
   "id": "dc6c59f5",
   "metadata": {
    "ExecuteTime": {
     "end_time": "2022-11-23T06:02:27.408532Z",
     "start_time": "2022-11-23T06:02:27.386675Z"
    }
   },
   "outputs": [
    {
     "data": {
      "text/plain": [
       "'We-are-learning-python'"
      ]
     },
     "execution_count": 25,
     "metadata": {},
     "output_type": "execute_result"
    }
   ],
   "source": [
    "s"
   ]
  },
  {
   "cell_type": "code",
   "execution_count": 28,
   "id": "718dc99d",
   "metadata": {
    "ExecuteTime": {
     "end_time": "2022-11-23T06:03:25.539284Z",
     "start_time": "2022-11-23T06:03:25.516647Z"
    }
   },
   "outputs": [
    {
     "data": {
      "text/plain": [
       "'They-are-learning-python'"
      ]
     },
     "execution_count": 28,
     "metadata": {},
     "output_type": "execute_result"
    }
   ],
   "source": [
    "s.replace('We','They')"
   ]
  },
  {
   "cell_type": "code",
   "execution_count": 29,
   "id": "c2230370",
   "metadata": {
    "ExecuteTime": {
     "end_time": "2022-11-23T06:03:32.949484Z",
     "start_time": "2022-11-23T06:03:32.933089Z"
    }
   },
   "outputs": [
    {
     "data": {
      "text/plain": [
       "'We-are-learning-python'"
      ]
     },
     "execution_count": 29,
     "metadata": {},
     "output_type": "execute_result"
    }
   ],
   "source": [
    "s"
   ]
  },
  {
   "cell_type": "code",
   "execution_count": 31,
   "id": "ecf0227f",
   "metadata": {
    "ExecuteTime": {
     "end_time": "2022-11-23T06:09:58.431438Z",
     "start_time": "2022-11-23T06:09:58.422467Z"
    }
   },
   "outputs": [
    {
     "data": {
      "text/plain": [
       "['We-are-learning-python']"
      ]
     },
     "execution_count": 31,
     "metadata": {},
     "output_type": "execute_result"
    }
   ],
   "source": [
    "s.split('eeeeeee')"
   ]
  },
  {
   "cell_type": "code",
   "execution_count": null,
   "id": "a17d86ee",
   "metadata": {},
   "outputs": [],
   "source": []
  },
  {
   "cell_type": "markdown",
   "id": "cd7ec595",
   "metadata": {},
   "source": [
    "# Data Structure"
   ]
  },
  {
   "cell_type": "code",
   "execution_count": 1,
   "id": "eae09b08",
   "metadata": {
    "ExecuteTime": {
     "end_time": "2022-11-24T05:05:33.592676Z",
     "start_time": "2022-11-24T05:05:33.556369Z"
    }
   },
   "outputs": [],
   "source": [
    "#creating list"
   ]
  },
  {
   "cell_type": "code",
   "execution_count": 2,
   "id": "40838b3e",
   "metadata": {
    "ExecuteTime": {
     "end_time": "2022-11-24T05:05:45.309068Z",
     "start_time": "2022-11-24T05:05:45.286387Z"
    }
   },
   "outputs": [],
   "source": [
    "lst = []"
   ]
  },
  {
   "cell_type": "code",
   "execution_count": 3,
   "id": "8c03f283",
   "metadata": {
    "ExecuteTime": {
     "end_time": "2022-11-24T05:07:34.489495Z",
     "start_time": "2022-11-24T05:07:34.453072Z"
    }
   },
   "outputs": [
    {
     "data": {
      "text/plain": [
       "list"
      ]
     },
     "execution_count": 3,
     "metadata": {},
     "output_type": "execute_result"
    }
   ],
   "source": [
    "type(lst)"
   ]
  },
  {
   "cell_type": "code",
   "execution_count": 8,
   "id": "6ccf212b",
   "metadata": {
    "ExecuteTime": {
     "end_time": "2022-11-24T05:10:23.740782Z",
     "start_time": "2022-11-24T05:10:23.723881Z"
    }
   },
   "outputs": [],
   "source": [
    "lst = [10, 10.5,True, 'Hello']"
   ]
  },
  {
   "cell_type": "code",
   "execution_count": 9,
   "id": "c7b1fced",
   "metadata": {
    "ExecuteTime": {
     "end_time": "2022-11-24T05:10:41.808497Z",
     "start_time": "2022-11-24T05:10:41.787538Z"
    }
   },
   "outputs": [
    {
     "data": {
      "text/plain": [
       "[10, 10.5, True, 'Hello']"
      ]
     },
     "execution_count": 9,
     "metadata": {},
     "output_type": "execute_result"
    }
   ],
   "source": [
    "lst"
   ]
  },
  {
   "cell_type": "code",
   "execution_count": 10,
   "id": "f65baebc",
   "metadata": {
    "ExecuteTime": {
     "end_time": "2022-11-24T05:11:05.727898Z",
     "start_time": "2022-11-24T05:11:05.706063Z"
    }
   },
   "outputs": [
    {
     "data": {
      "text/plain": [
       "'Hello'"
      ]
     },
     "execution_count": 10,
     "metadata": {},
     "output_type": "execute_result"
    }
   ],
   "source": [
    "lst [3]"
   ]
  },
  {
   "cell_type": "code",
   "execution_count": 11,
   "id": "72234dc6",
   "metadata": {
    "ExecuteTime": {
     "end_time": "2022-11-24T05:11:17.457169Z",
     "start_time": "2022-11-24T05:11:17.442376Z"
    }
   },
   "outputs": [
    {
     "data": {
      "text/plain": [
       "[10.5, True]"
      ]
     },
     "execution_count": 11,
     "metadata": {},
     "output_type": "execute_result"
    }
   ],
   "source": [
    "lst[1:3]"
   ]
  },
  {
   "cell_type": "code",
   "execution_count": 12,
   "id": "a90e630b",
   "metadata": {
    "ExecuteTime": {
     "end_time": "2022-11-24T05:12:38.201249Z",
     "start_time": "2022-11-24T05:12:38.191234Z"
    }
   },
   "outputs": [],
   "source": [
    "lst.append(1000)"
   ]
  },
  {
   "cell_type": "code",
   "execution_count": 14,
   "id": "67e0c047",
   "metadata": {
    "ExecuteTime": {
     "end_time": "2022-11-24T05:12:59.942832Z",
     "start_time": "2022-11-24T05:12:59.927872Z"
    }
   },
   "outputs": [
    {
     "data": {
      "text/plain": [
       "[10, 10.5, True, 'Hello', 1000]"
      ]
     },
     "execution_count": 14,
     "metadata": {},
     "output_type": "execute_result"
    }
   ],
   "source": [
    "lst"
   ]
  },
  {
   "cell_type": "code",
   "execution_count": 15,
   "id": "d9e198db",
   "metadata": {
    "ExecuteTime": {
     "end_time": "2022-11-24T05:13:13.298708Z",
     "start_time": "2022-11-24T05:13:13.279295Z"
    }
   },
   "outputs": [
    {
     "data": {
      "text/plain": [
       "1"
      ]
     },
     "execution_count": 15,
     "metadata": {},
     "output_type": "execute_result"
    }
   ],
   "source": [
    "lst.count(1000)"
   ]
  },
  {
   "cell_type": "code",
   "execution_count": 16,
   "id": "fa655452",
   "metadata": {
    "ExecuteTime": {
     "end_time": "2022-11-24T05:13:36.211185Z",
     "start_time": "2022-11-24T05:13:36.190217Z"
    }
   },
   "outputs": [
    {
     "data": {
      "text/plain": [
       "0"
      ]
     },
     "execution_count": 16,
     "metadata": {},
     "output_type": "execute_result"
    }
   ],
   "source": [
    "lst.count(2000000000000000)"
   ]
  },
  {
   "cell_type": "code",
   "execution_count": 17,
   "id": "f2f8cf1d",
   "metadata": {
    "ExecuteTime": {
     "end_time": "2022-11-24T05:14:13.611113Z",
     "start_time": "2022-11-24T05:14:13.597469Z"
    }
   },
   "outputs": [
    {
     "data": {
      "text/plain": [
       "1"
      ]
     },
     "execution_count": 17,
     "metadata": {},
     "output_type": "execute_result"
    }
   ],
   "source": [
    "lst.index(10.5)"
   ]
  },
  {
   "cell_type": "code",
   "execution_count": 19,
   "id": "6857bf6b",
   "metadata": {
    "ExecuteTime": {
     "end_time": "2022-11-24T05:15:37.681343Z",
     "start_time": "2022-11-24T05:15:37.663276Z"
    }
   },
   "outputs": [
    {
     "data": {
      "text/plain": [
       "3"
      ]
     },
     "execution_count": 19,
     "metadata": {},
     "output_type": "execute_result"
    }
   ],
   "source": [
    "lst.index('Hello')"
   ]
  },
  {
   "cell_type": "code",
   "execution_count": 20,
   "id": "59c3b6bd",
   "metadata": {
    "ExecuteTime": {
     "end_time": "2022-11-24T05:15:53.625896Z",
     "start_time": "2022-11-24T05:15:53.619532Z"
    }
   },
   "outputs": [
    {
     "data": {
      "text/plain": [
       "[10, 10.5, True, 'Hello', 1000]"
      ]
     },
     "execution_count": 20,
     "metadata": {},
     "output_type": "execute_result"
    }
   ],
   "source": [
    "lst"
   ]
  },
  {
   "cell_type": "code",
   "execution_count": 21,
   "id": "ad0fe534",
   "metadata": {
    "ExecuteTime": {
     "end_time": "2022-11-24T05:16:36.256706Z",
     "start_time": "2022-11-24T05:16:36.243485Z"
    }
   },
   "outputs": [
    {
     "data": {
      "text/plain": [
       "1000"
      ]
     },
     "execution_count": 21,
     "metadata": {},
     "output_type": "execute_result"
    }
   ],
   "source": [
    "lst[-1]"
   ]
  },
  {
   "cell_type": "code",
   "execution_count": 22,
   "id": "71c3c245",
   "metadata": {
    "ExecuteTime": {
     "end_time": "2022-11-24T05:17:31.540474Z",
     "start_time": "2022-11-24T05:17:31.535397Z"
    }
   },
   "outputs": [],
   "source": [
    "lst.insert(0,50)"
   ]
  },
  {
   "cell_type": "code",
   "execution_count": 23,
   "id": "1e23c523",
   "metadata": {
    "ExecuteTime": {
     "end_time": "2022-11-24T05:17:35.566739Z",
     "start_time": "2022-11-24T05:17:35.548931Z"
    }
   },
   "outputs": [
    {
     "data": {
      "text/plain": [
       "[50, 10, 10.5, True, 'Hello', 1000]"
      ]
     },
     "execution_count": 23,
     "metadata": {},
     "output_type": "execute_result"
    }
   ],
   "source": [
    "lst"
   ]
  },
  {
   "cell_type": "code",
   "execution_count": 24,
   "id": "49d42743",
   "metadata": {
    "ExecuteTime": {
     "end_time": "2022-11-24T05:18:03.907141Z",
     "start_time": "2022-11-24T05:18:03.892233Z"
    }
   },
   "outputs": [
    {
     "data": {
      "text/plain": [
       "1000"
      ]
     },
     "execution_count": 24,
     "metadata": {},
     "output_type": "execute_result"
    }
   ],
   "source": [
    "lst.pop()"
   ]
  },
  {
   "cell_type": "code",
   "execution_count": 25,
   "id": "8023cd65",
   "metadata": {
    "ExecuteTime": {
     "end_time": "2022-11-24T05:18:08.313369Z",
     "start_time": "2022-11-24T05:18:08.306416Z"
    }
   },
   "outputs": [
    {
     "data": {
      "text/plain": [
       "[50, 10, 10.5, True, 'Hello']"
      ]
     },
     "execution_count": 25,
     "metadata": {},
     "output_type": "execute_result"
    }
   ],
   "source": [
    "lst"
   ]
  },
  {
   "cell_type": "code",
   "execution_count": 26,
   "id": "2e4190d3",
   "metadata": {
    "ExecuteTime": {
     "end_time": "2022-11-24T05:18:20.973811Z",
     "start_time": "2022-11-24T05:18:20.952938Z"
    }
   },
   "outputs": [
    {
     "ename": "TypeError",
     "evalue": "'list' object is not callable",
     "output_type": "error",
     "traceback": [
      "\u001b[1;31m---------------------------------------------------------------------------\u001b[0m",
      "\u001b[1;31mTypeError\u001b[0m                                 Traceback (most recent call last)",
      "\u001b[1;32m~\\AppData\\Local\\Temp\\ipykernel_9228\\4105933693.py\u001b[0m in \u001b[0;36m<module>\u001b[1;34m\u001b[0m\n\u001b[1;32m----> 1\u001b[1;33m \u001b[0mlst\u001b[0m\u001b[1;33m(\u001b[0m\u001b[1;36m2\u001b[0m\u001b[1;33m)\u001b[0m\u001b[1;33m\u001b[0m\u001b[1;33m\u001b[0m\u001b[0m\n\u001b[0m",
      "\u001b[1;31mTypeError\u001b[0m: 'list' object is not callable"
     ]
    }
   ],
   "source": [
    "lst(2)"
   ]
  },
  {
   "cell_type": "code",
   "execution_count": 28,
   "id": "d965ab91",
   "metadata": {
    "ExecuteTime": {
     "end_time": "2022-11-24T05:18:50.950158Z",
     "start_time": "2022-11-24T05:18:50.938985Z"
    }
   },
   "outputs": [],
   "source": [
    "lst[2] = 'Rushi'"
   ]
  },
  {
   "cell_type": "code",
   "execution_count": 29,
   "id": "d55ddd63",
   "metadata": {
    "ExecuteTime": {
     "end_time": "2022-11-24T05:19:01.392281Z",
     "start_time": "2022-11-24T05:19:01.371737Z"
    }
   },
   "outputs": [
    {
     "data": {
      "text/plain": [
       "[50, 10, 'Rushi', True, 'Hello']"
      ]
     },
     "execution_count": 29,
     "metadata": {},
     "output_type": "execute_result"
    }
   ],
   "source": [
    "lst"
   ]
  },
  {
   "cell_type": "code",
   "execution_count": 30,
   "id": "eed6e2c8",
   "metadata": {
    "ExecuteTime": {
     "end_time": "2022-11-24T05:19:23.499973Z",
     "start_time": "2022-11-24T05:19:23.478234Z"
    }
   },
   "outputs": [],
   "source": [
    "lst.reverse()"
   ]
  },
  {
   "cell_type": "code",
   "execution_count": 31,
   "id": "838e6564",
   "metadata": {
    "ExecuteTime": {
     "end_time": "2022-11-24T05:19:26.945780Z",
     "start_time": "2022-11-24T05:19:26.939497Z"
    }
   },
   "outputs": [
    {
     "data": {
      "text/plain": [
       "['Hello', True, 'Rushi', 10, 50]"
      ]
     },
     "execution_count": 31,
     "metadata": {},
     "output_type": "execute_result"
    }
   ],
   "source": [
    "lst"
   ]
  },
  {
   "cell_type": "code",
   "execution_count": 32,
   "id": "e81d1ba4",
   "metadata": {
    "ExecuteTime": {
     "end_time": "2022-11-24T05:19:55.947618Z",
     "start_time": "2022-11-24T05:19:55.922993Z"
    }
   },
   "outputs": [],
   "source": [
    "lst.remove(True)"
   ]
  },
  {
   "cell_type": "code",
   "execution_count": 35,
   "id": "08fcb784",
   "metadata": {
    "ExecuteTime": {
     "end_time": "2022-11-24T05:25:48.175203Z",
     "start_time": "2022-11-24T05:25:48.156255Z"
    }
   },
   "outputs": [
    {
     "data": {
      "text/plain": [
       "['Hello', 'Rushi', 10, 50]"
      ]
     },
     "execution_count": 35,
     "metadata": {},
     "output_type": "execute_result"
    }
   ],
   "source": [
    "lst"
   ]
  },
  {
   "cell_type": "markdown",
   "id": "7448a494",
   "metadata": {},
   "source": [
    "# Tuple"
   ]
  },
  {
   "cell_type": "code",
   "execution_count": 36,
   "id": "12e9fc3f",
   "metadata": {
    "ExecuteTime": {
     "end_time": "2022-11-24T05:43:25.142154Z",
     "start_time": "2022-11-24T05:43:25.111150Z"
    }
   },
   "outputs": [],
   "source": [
    "#create a tuple"
   ]
  },
  {
   "cell_type": "code",
   "execution_count": 37,
   "id": "7c31f8f2",
   "metadata": {
    "ExecuteTime": {
     "end_time": "2022-11-24T05:44:00.854377Z",
     "start_time": "2022-11-24T05:44:00.841183Z"
    }
   },
   "outputs": [],
   "source": [
    "t = (10,1.2,'hi',1000,15.2)"
   ]
  },
  {
   "cell_type": "code",
   "execution_count": 38,
   "id": "f22ccd2c",
   "metadata": {
    "ExecuteTime": {
     "end_time": "2022-11-24T05:44:11.589804Z",
     "start_time": "2022-11-24T05:44:11.581083Z"
    }
   },
   "outputs": [
    {
     "data": {
      "text/plain": [
       "tuple"
      ]
     },
     "execution_count": 38,
     "metadata": {},
     "output_type": "execute_result"
    }
   ],
   "source": [
    "type(t)"
   ]
  },
  {
   "cell_type": "code",
   "execution_count": 39,
   "id": "3f97896e",
   "metadata": {
    "ExecuteTime": {
     "end_time": "2022-11-24T05:44:16.571579Z",
     "start_time": "2022-11-24T05:44:16.563624Z"
    }
   },
   "outputs": [
    {
     "data": {
      "text/plain": [
       "(10, 1.2, 'hi', 1000, 15.2)"
      ]
     },
     "execution_count": 39,
     "metadata": {},
     "output_type": "execute_result"
    }
   ],
   "source": [
    "t"
   ]
  },
  {
   "cell_type": "code",
   "execution_count": 40,
   "id": "1d85b8ad",
   "metadata": {
    "ExecuteTime": {
     "end_time": "2022-11-24T05:44:32.309993Z",
     "start_time": "2022-11-24T05:44:32.295952Z"
    }
   },
   "outputs": [
    {
     "data": {
      "text/plain": [
       "1"
      ]
     },
     "execution_count": 40,
     "metadata": {},
     "output_type": "execute_result"
    }
   ],
   "source": [
    "t.count(1000)"
   ]
  },
  {
   "cell_type": "code",
   "execution_count": 42,
   "id": "f9954ad1",
   "metadata": {
    "ExecuteTime": {
     "end_time": "2022-11-24T05:44:48.706892Z",
     "start_time": "2022-11-24T05:44:48.689412Z"
    }
   },
   "outputs": [
    {
     "data": {
      "text/plain": [
       "15.2"
      ]
     },
     "execution_count": 42,
     "metadata": {},
     "output_type": "execute_result"
    }
   ],
   "source": [
    "t[4]"
   ]
  },
  {
   "cell_type": "code",
   "execution_count": 43,
   "id": "ae71077e",
   "metadata": {
    "ExecuteTime": {
     "end_time": "2022-11-24T05:45:05.929625Z",
     "start_time": "2022-11-24T05:45:05.905053Z"
    }
   },
   "outputs": [
    {
     "data": {
      "text/plain": [
       "('hi', 1000, 15.2)"
      ]
     },
     "execution_count": 43,
     "metadata": {},
     "output_type": "execute_result"
    }
   ],
   "source": [
    "t[2:]"
   ]
  },
  {
   "cell_type": "code",
   "execution_count": 44,
   "id": "dbca465f",
   "metadata": {
    "ExecuteTime": {
     "end_time": "2022-11-24T05:45:22.829567Z",
     "start_time": "2022-11-24T05:45:22.814193Z"
    }
   },
   "outputs": [],
   "source": [
    "#replacing element"
   ]
  },
  {
   "cell_type": "code",
   "execution_count": 45,
   "id": "2a80a82a",
   "metadata": {
    "ExecuteTime": {
     "end_time": "2022-11-24T05:45:29.594141Z",
     "start_time": "2022-11-24T05:45:29.576658Z"
    }
   },
   "outputs": [
    {
     "data": {
      "text/plain": [
       "(10, 1.2, 'hi', 1000, 15.2)"
      ]
     },
     "execution_count": 45,
     "metadata": {},
     "output_type": "execute_result"
    }
   ],
   "source": [
    "t"
   ]
  },
  {
   "cell_type": "code",
   "execution_count": 46,
   "id": "9f098881",
   "metadata": {
    "ExecuteTime": {
     "end_time": "2022-11-24T05:45:43.277673Z",
     "start_time": "2022-11-24T05:45:43.247832Z"
    }
   },
   "outputs": [
    {
     "ename": "TypeError",
     "evalue": "'tuple' object does not support item assignment",
     "output_type": "error",
     "traceback": [
      "\u001b[1;31m---------------------------------------------------------------------------\u001b[0m",
      "\u001b[1;31mTypeError\u001b[0m                                 Traceback (most recent call last)",
      "\u001b[1;32m~\\AppData\\Local\\Temp\\ipykernel_9228\\569531466.py\u001b[0m in \u001b[0;36m<module>\u001b[1;34m\u001b[0m\n\u001b[1;32m----> 1\u001b[1;33m \u001b[0mt\u001b[0m\u001b[1;33m[\u001b[0m\u001b[1;36m4\u001b[0m\u001b[1;33m]\u001b[0m \u001b[1;33m=\u001b[0m \u001b[1;36m2000\u001b[0m\u001b[1;33m\u001b[0m\u001b[1;33m\u001b[0m\u001b[0m\n\u001b[0m",
      "\u001b[1;31mTypeError\u001b[0m: 'tuple' object does not support item assignment"
     ]
    }
   ],
   "source": [
    "t[4] = 2000"
   ]
  },
  {
   "cell_type": "code",
   "execution_count": 47,
   "id": "07dfc20f",
   "metadata": {
    "ExecuteTime": {
     "end_time": "2022-11-24T05:45:50.073026Z",
     "start_time": "2022-11-24T05:45:50.053256Z"
    }
   },
   "outputs": [
    {
     "data": {
      "text/plain": [
       "(10, 1.2, 'hi', 1000, 15.2)"
      ]
     },
     "execution_count": 47,
     "metadata": {},
     "output_type": "execute_result"
    }
   ],
   "source": [
    "t"
   ]
  },
  {
   "cell_type": "code",
   "execution_count": 48,
   "id": "ac15362a",
   "metadata": {
    "ExecuteTime": {
     "end_time": "2022-11-24T05:46:13.736706Z",
     "start_time": "2022-11-24T05:46:13.726770Z"
    }
   },
   "outputs": [],
   "source": [
    "t = list(t)"
   ]
  },
  {
   "cell_type": "code",
   "execution_count": 49,
   "id": "08271700",
   "metadata": {
    "ExecuteTime": {
     "end_time": "2022-11-24T05:46:25.516644Z",
     "start_time": "2022-11-24T05:46:25.510855Z"
    }
   },
   "outputs": [
    {
     "data": {
      "text/plain": [
       "list"
      ]
     },
     "execution_count": 49,
     "metadata": {},
     "output_type": "execute_result"
    }
   ],
   "source": [
    "type(t)"
   ]
  },
  {
   "cell_type": "code",
   "execution_count": 52,
   "id": "bd4accd0",
   "metadata": {
    "ExecuteTime": {
     "end_time": "2022-11-24T05:46:57.091941Z",
     "start_time": "2022-11-24T05:46:57.074575Z"
    }
   },
   "outputs": [],
   "source": [
    "t[4] = 200"
   ]
  },
  {
   "cell_type": "code",
   "execution_count": 53,
   "id": "ed42d872",
   "metadata": {
    "ExecuteTime": {
     "end_time": "2022-11-24T05:47:05.403033Z",
     "start_time": "2022-11-24T05:47:05.382185Z"
    }
   },
   "outputs": [
    {
     "data": {
      "text/plain": [
       "[10, 1.2, 'hi', 1000, 200]"
      ]
     },
     "execution_count": 53,
     "metadata": {},
     "output_type": "execute_result"
    }
   ],
   "source": [
    "t"
   ]
  },
  {
   "cell_type": "code",
   "execution_count": 54,
   "id": "f1268b0b",
   "metadata": {
    "ExecuteTime": {
     "end_time": "2022-11-24T05:48:16.455202Z",
     "start_time": "2022-11-24T05:48:16.437056Z"
    }
   },
   "outputs": [],
   "source": [
    "t = tuple(t)"
   ]
  },
  {
   "cell_type": "code",
   "execution_count": 55,
   "id": "0e87103a",
   "metadata": {
    "ExecuteTime": {
     "end_time": "2022-11-24T05:48:33.343446Z",
     "start_time": "2022-11-24T05:48:33.320175Z"
    }
   },
   "outputs": [
    {
     "data": {
      "text/plain": [
       "tuple"
      ]
     },
     "execution_count": 55,
     "metadata": {},
     "output_type": "execute_result"
    }
   ],
   "source": [
    "type(t)"
   ]
  },
  {
   "cell_type": "markdown",
   "id": "eb3257b6",
   "metadata": {},
   "source": [
    "# Dictionary"
   ]
  },
  {
   "cell_type": "code",
   "execution_count": 56,
   "id": "99fd5da7",
   "metadata": {
    "ExecuteTime": {
     "end_time": "2022-11-24T05:49:20.775649Z",
     "start_time": "2022-11-24T05:49:20.763756Z"
    }
   },
   "outputs": [],
   "source": [
    "#creating a dictionary"
   ]
  },
  {
   "cell_type": "code",
   "execution_count": 57,
   "id": "4c10311d",
   "metadata": {
    "ExecuteTime": {
     "end_time": "2022-11-24T05:49:47.772004Z",
     "start_time": "2022-11-24T05:49:47.758308Z"
    }
   },
   "outputs": [
    {
     "data": {
      "text/plain": [
       "dict"
      ]
     },
     "execution_count": 57,
     "metadata": {},
     "output_type": "execute_result"
    }
   ],
   "source": [
    "d = {}\n",
    "type(d)"
   ]
  },
  {
   "cell_type": "code",
   "execution_count": 58,
   "id": "94cc9aad",
   "metadata": {
    "ExecuteTime": {
     "end_time": "2022-11-24T05:50:19.021973Z",
     "start_time": "2022-11-24T05:50:19.002652Z"
    }
   },
   "outputs": [
    {
     "data": {
      "text/plain": [
       "dict"
      ]
     },
     "execution_count": 58,
     "metadata": {},
     "output_type": "execute_result"
    }
   ],
   "source": [
    "d1 = dict()\n",
    "type(d1)"
   ]
  },
  {
   "cell_type": "code",
   "execution_count": 59,
   "id": "379dc23c",
   "metadata": {
    "ExecuteTime": {
     "end_time": "2022-11-24T05:50:39.768541Z",
     "start_time": "2022-11-24T05:50:39.749139Z"
    }
   },
   "outputs": [],
   "source": [
    "#adding elements in dictionary"
   ]
  },
  {
   "cell_type": "code",
   "execution_count": 60,
   "id": "6633790a",
   "metadata": {
    "ExecuteTime": {
     "end_time": "2022-11-24T05:51:46.367742Z",
     "start_time": "2022-11-24T05:51:46.353709Z"
    }
   },
   "outputs": [],
   "source": [
    "d = {1:10,2:'A',3:True}"
   ]
  },
  {
   "cell_type": "code",
   "execution_count": 61,
   "id": "08803e23",
   "metadata": {
    "ExecuteTime": {
     "end_time": "2022-11-24T05:51:49.372281Z",
     "start_time": "2022-11-24T05:51:49.347921Z"
    }
   },
   "outputs": [
    {
     "data": {
      "text/plain": [
       "{1: 10, 2: 'A', 3: True}"
      ]
     },
     "execution_count": 61,
     "metadata": {},
     "output_type": "execute_result"
    }
   ],
   "source": [
    "d"
   ]
  },
  {
   "cell_type": "code",
   "execution_count": 62,
   "id": "668145ab",
   "metadata": {
    "ExecuteTime": {
     "end_time": "2022-11-24T05:52:03.289440Z",
     "start_time": "2022-11-24T05:52:03.280657Z"
    }
   },
   "outputs": [],
   "source": [
    "#get"
   ]
  },
  {
   "cell_type": "code",
   "execution_count": 63,
   "id": "953486d8",
   "metadata": {
    "ExecuteTime": {
     "end_time": "2022-11-24T05:53:39.067191Z",
     "start_time": "2022-11-24T05:53:39.047933Z"
    }
   },
   "outputs": [
    {
     "data": {
      "text/plain": [
       "'A'"
      ]
     },
     "execution_count": 63,
     "metadata": {},
     "output_type": "execute_result"
    }
   ],
   "source": [
    "d.get(2)"
   ]
  },
  {
   "cell_type": "code",
   "execution_count": 64,
   "id": "af9d311b",
   "metadata": {
    "ExecuteTime": {
     "end_time": "2022-11-24T05:53:46.436967Z",
     "start_time": "2022-11-24T05:53:46.429845Z"
    }
   },
   "outputs": [],
   "source": [
    "#items"
   ]
  },
  {
   "cell_type": "code",
   "execution_count": 65,
   "id": "43ab2a46",
   "metadata": {
    "ExecuteTime": {
     "end_time": "2022-11-24T05:54:00.668617Z",
     "start_time": "2022-11-24T05:54:00.649781Z"
    }
   },
   "outputs": [
    {
     "data": {
      "text/plain": [
       "dict_items([(1, 10), (2, 'A'), (3, True)])"
      ]
     },
     "execution_count": 65,
     "metadata": {},
     "output_type": "execute_result"
    }
   ],
   "source": [
    "d.items()"
   ]
  },
  {
   "cell_type": "code",
   "execution_count": 66,
   "id": "c7dd5ee1",
   "metadata": {
    "ExecuteTime": {
     "end_time": "2022-11-24T05:54:10.693742Z",
     "start_time": "2022-11-24T05:54:10.680316Z"
    }
   },
   "outputs": [],
   "source": [
    "#keys"
   ]
  },
  {
   "cell_type": "code",
   "execution_count": 67,
   "id": "2c1bc857",
   "metadata": {
    "ExecuteTime": {
     "end_time": "2022-11-24T05:54:22.411610Z",
     "start_time": "2022-11-24T05:54:22.392563Z"
    }
   },
   "outputs": [
    {
     "data": {
      "text/plain": [
       "dict_keys([1, 2, 3])"
      ]
     },
     "execution_count": 67,
     "metadata": {},
     "output_type": "execute_result"
    }
   ],
   "source": [
    "d.keys()"
   ]
  },
  {
   "cell_type": "code",
   "execution_count": 69,
   "id": "c99edd96",
   "metadata": {
    "ExecuteTime": {
     "end_time": "2022-11-24T05:55:34.335929Z",
     "start_time": "2022-11-24T05:55:34.312716Z"
    }
   },
   "outputs": [
    {
     "data": {
      "text/plain": [
       "{1: 10, 2: 'A', 3: True}"
      ]
     },
     "execution_count": 69,
     "metadata": {},
     "output_type": "execute_result"
    }
   ],
   "source": [
    "d"
   ]
  },
  {
   "cell_type": "code",
   "execution_count": 70,
   "id": "bf739120",
   "metadata": {
    "ExecuteTime": {
     "end_time": "2022-11-24T05:56:22.795793Z",
     "start_time": "2022-11-24T05:56:22.784333Z"
    }
   },
   "outputs": [
    {
     "data": {
      "text/plain": [
       "True"
      ]
     },
     "execution_count": 70,
     "metadata": {},
     "output_type": "execute_result"
    }
   ],
   "source": [
    "d.pop(3)"
   ]
  },
  {
   "cell_type": "code",
   "execution_count": 74,
   "id": "004e6069",
   "metadata": {
    "ExecuteTime": {
     "end_time": "2022-11-24T05:57:39.353722Z",
     "start_time": "2022-11-24T05:57:39.345903Z"
    }
   },
   "outputs": [],
   "source": [
    "d.update({'car':'bmw'})"
   ]
  },
  {
   "cell_type": "code",
   "execution_count": 75,
   "id": "00d299b7",
   "metadata": {
    "ExecuteTime": {
     "end_time": "2022-11-24T05:57:46.780229Z",
     "start_time": "2022-11-24T05:57:46.754971Z"
    }
   },
   "outputs": [
    {
     "data": {
      "text/plain": [
       "{1: 10, 2: 'A', 'car': 'bmw'}"
      ]
     },
     "execution_count": 75,
     "metadata": {},
     "output_type": "execute_result"
    }
   ],
   "source": [
    "d"
   ]
  },
  {
   "cell_type": "code",
   "execution_count": 77,
   "id": "1a8e7028",
   "metadata": {
    "ExecuteTime": {
     "end_time": "2022-11-24T05:59:36.002093Z",
     "start_time": "2022-11-24T05:59:35.994366Z"
    }
   },
   "outputs": [
    {
     "data": {
      "text/plain": [
       "'bmw'"
      ]
     },
     "execution_count": 77,
     "metadata": {},
     "output_type": "execute_result"
    }
   ],
   "source": [
    "d.pop('car')"
   ]
  },
  {
   "cell_type": "code",
   "execution_count": 78,
   "id": "d156969d",
   "metadata": {
    "ExecuteTime": {
     "end_time": "2022-11-24T06:00:32.942330Z",
     "start_time": "2022-11-24T06:00:32.927316Z"
    }
   },
   "outputs": [
    {
     "data": {
      "text/plain": [
       "dict_values([10, 'A'])"
      ]
     },
     "execution_count": 78,
     "metadata": {},
     "output_type": "execute_result"
    }
   ],
   "source": [
    "d.values()"
   ]
  },
  {
   "cell_type": "code",
   "execution_count": 79,
   "id": "c694e4f4",
   "metadata": {
    "ExecuteTime": {
     "end_time": "2022-11-24T06:02:57.661461Z",
     "start_time": "2022-11-24T06:02:57.636823Z"
    }
   },
   "outputs": [
    {
     "data": {
      "text/plain": [
       "{1: 10, 2: 'A'}"
      ]
     },
     "execution_count": 79,
     "metadata": {},
     "output_type": "execute_result"
    }
   ],
   "source": [
    "d"
   ]
  },
  {
   "cell_type": "markdown",
   "id": "a11046d0",
   "metadata": {},
   "source": [
    "# Set"
   ]
  },
  {
   "cell_type": "code",
   "execution_count": 81,
   "id": "8a564947",
   "metadata": {
    "ExecuteTime": {
     "end_time": "2022-11-24T06:11:08.981337Z",
     "start_time": "2022-11-24T06:11:08.966649Z"
    }
   },
   "outputs": [
    {
     "data": {
      "text/plain": [
       "{1, 10.5, 2, 3, 'A'}"
      ]
     },
     "execution_count": 81,
     "metadata": {},
     "output_type": "execute_result"
    }
   ],
   "source": [
    "#creating an empty set\n",
    "\n",
    "s = {1,2,3,10.5,'A'}\n",
    "type(s)\n",
    "s"
   ]
  },
  {
   "cell_type": "code",
   "execution_count": 82,
   "id": "1017e809",
   "metadata": {
    "ExecuteTime": {
     "end_time": "2022-11-24T06:11:31.198942Z",
     "start_time": "2022-11-24T06:11:31.190935Z"
    }
   },
   "outputs": [
    {
     "data": {
      "text/plain": [
       "{1, 2, 3, 4, 5}"
      ]
     },
     "execution_count": 82,
     "metadata": {},
     "output_type": "execute_result"
    }
   ],
   "source": [
    "#does not allow duplicate value\n",
    "s1 = {1,1,1,2,3,4,5}\n",
    "s1"
   ]
  },
  {
   "cell_type": "code",
   "execution_count": 83,
   "id": "829d3e8e",
   "metadata": {
    "ExecuteTime": {
     "end_time": "2022-11-24T06:12:34.378483Z",
     "start_time": "2022-11-24T06:12:34.351840Z"
    }
   },
   "outputs": [
    {
     "data": {
      "text/plain": [
       "{1, 10.5, 2, 3, 'A'}"
      ]
     },
     "execution_count": 83,
     "metadata": {},
     "output_type": "execute_result"
    }
   ],
   "source": [
    "s"
   ]
  },
  {
   "cell_type": "code",
   "execution_count": 85,
   "id": "c8b891cb",
   "metadata": {
    "ExecuteTime": {
     "end_time": "2022-11-24T06:13:10.866474Z",
     "start_time": "2022-11-24T06:13:10.849804Z"
    }
   },
   "outputs": [
    {
     "ename": "TypeError",
     "evalue": "'set' object is not subscriptable",
     "output_type": "error",
     "traceback": [
      "\u001b[1;31m---------------------------------------------------------------------------\u001b[0m",
      "\u001b[1;31mTypeError\u001b[0m                                 Traceback (most recent call last)",
      "\u001b[1;32m~\\AppData\\Local\\Temp\\ipykernel_9228\\994426261.py\u001b[0m in \u001b[0;36m<module>\u001b[1;34m\u001b[0m\n\u001b[0;32m      1\u001b[0m \u001b[1;31m#does not support indexing\u001b[0m\u001b[1;33m\u001b[0m\u001b[1;33m\u001b[0m\u001b[0m\n\u001b[1;32m----> 2\u001b[1;33m \u001b[0ms\u001b[0m\u001b[1;33m[\u001b[0m\u001b[1;33m-\u001b[0m\u001b[1;36m1\u001b[0m\u001b[1;33m]\u001b[0m\u001b[1;33m\u001b[0m\u001b[1;33m\u001b[0m\u001b[0m\n\u001b[0m",
      "\u001b[1;31mTypeError\u001b[0m: 'set' object is not subscriptable"
     ]
    }
   ],
   "source": [
    "#does not support indexing\n",
    "s[-1]"
   ]
  },
  {
   "cell_type": "code",
   "execution_count": 89,
   "id": "a90bfad5",
   "metadata": {
    "ExecuteTime": {
     "end_time": "2022-11-24T06:14:37.070477Z",
     "start_time": "2022-11-24T06:14:37.056621Z"
    }
   },
   "outputs": [
    {
     "data": {
      "text/plain": [
       "{1, 10.5, 100, 1000, 2, 3, 'A'}"
      ]
     },
     "execution_count": 89,
     "metadata": {},
     "output_type": "execute_result"
    }
   ],
   "source": [
    "#add\n",
    "s.add(100)\n",
    "s"
   ]
  },
  {
   "cell_type": "code",
   "execution_count": 90,
   "id": "f9a5c108",
   "metadata": {
    "ExecuteTime": {
     "end_time": "2022-11-24T06:14:43.721691Z",
     "start_time": "2022-11-24T06:14:43.701177Z"
    }
   },
   "outputs": [
    {
     "data": {
      "text/plain": [
       "{1, 10.5, 100, 1000, 2, 3, 'A'}"
      ]
     },
     "execution_count": 90,
     "metadata": {},
     "output_type": "execute_result"
    }
   ],
   "source": [
    "s"
   ]
  },
  {
   "cell_type": "code",
   "execution_count": 91,
   "id": "01d530bb",
   "metadata": {
    "ExecuteTime": {
     "end_time": "2022-11-24T06:16:04.055982Z",
     "start_time": "2022-11-24T06:16:04.039661Z"
    }
   },
   "outputs": [],
   "source": [
    "a = {'apple', 'mango','cherry'}\n",
    "b = {'microsoft','google','cherry'}"
   ]
  },
  {
   "cell_type": "code",
   "execution_count": 92,
   "id": "366dceab",
   "metadata": {
    "ExecuteTime": {
     "end_time": "2022-11-24T06:16:12.696968Z",
     "start_time": "2022-11-24T06:16:12.676665Z"
    }
   },
   "outputs": [],
   "source": [
    "#difference"
   ]
  },
  {
   "cell_type": "code",
   "execution_count": 93,
   "id": "1660fa89",
   "metadata": {
    "ExecuteTime": {
     "end_time": "2022-11-24T06:16:26.753206Z",
     "start_time": "2022-11-24T06:16:26.738476Z"
    }
   },
   "outputs": [
    {
     "data": {
      "text/plain": [
       "{'apple', 'mango'}"
      ]
     },
     "execution_count": 93,
     "metadata": {},
     "output_type": "execute_result"
    }
   ],
   "source": [
    "a.difference(b)"
   ]
  },
  {
   "cell_type": "code",
   "execution_count": 94,
   "id": "b7f0380d",
   "metadata": {
    "ExecuteTime": {
     "end_time": "2022-11-24T06:16:36.117704Z",
     "start_time": "2022-11-24T06:16:36.078281Z"
    }
   },
   "outputs": [
    {
     "data": {
      "text/plain": [
       "{'google', 'microsoft'}"
      ]
     },
     "execution_count": 94,
     "metadata": {},
     "output_type": "execute_result"
    }
   ],
   "source": [
    "b.difference(a)"
   ]
  },
  {
   "cell_type": "code",
   "execution_count": 95,
   "id": "14f306eb",
   "metadata": {
    "ExecuteTime": {
     "end_time": "2022-11-24T06:16:46.981624Z",
     "start_time": "2022-11-24T06:16:46.971357Z"
    }
   },
   "outputs": [],
   "source": [
    "#intersection"
   ]
  },
  {
   "cell_type": "code",
   "execution_count": 96,
   "id": "274da2ac",
   "metadata": {
    "ExecuteTime": {
     "end_time": "2022-11-24T06:17:02.395489Z",
     "start_time": "2022-11-24T06:17:02.373933Z"
    }
   },
   "outputs": [
    {
     "data": {
      "text/plain": [
       "{'cherry'}"
      ]
     },
     "execution_count": 96,
     "metadata": {},
     "output_type": "execute_result"
    }
   ],
   "source": [
    "a.intersection(b)"
   ]
  },
  {
   "cell_type": "code",
   "execution_count": 97,
   "id": "4a31b8e7",
   "metadata": {
    "ExecuteTime": {
     "end_time": "2022-11-24T06:17:13.761559Z",
     "start_time": "2022-11-24T06:17:13.752809Z"
    }
   },
   "outputs": [],
   "source": [
    "#union"
   ]
  },
  {
   "cell_type": "code",
   "execution_count": 98,
   "id": "f771dc22",
   "metadata": {
    "ExecuteTime": {
     "end_time": "2022-11-24T06:17:24.775341Z",
     "start_time": "2022-11-24T06:17:24.752585Z"
    }
   },
   "outputs": [
    {
     "data": {
      "text/plain": [
       "{'apple', 'cherry', 'google', 'mango', 'microsoft'}"
      ]
     },
     "execution_count": 98,
     "metadata": {},
     "output_type": "execute_result"
    }
   ],
   "source": [
    "a.union(b)"
   ]
  },
  {
   "cell_type": "code",
   "execution_count": 99,
   "id": "8efa46ee",
   "metadata": {
    "ExecuteTime": {
     "end_time": "2022-11-24T06:17:34.181532Z",
     "start_time": "2022-11-24T06:17:34.158931Z"
    }
   },
   "outputs": [],
   "source": [
    "#pop"
   ]
  },
  {
   "cell_type": "code",
   "execution_count": 103,
   "id": "406ab138",
   "metadata": {
    "ExecuteTime": {
     "end_time": "2022-11-24T06:18:35.524501Z",
     "start_time": "2022-11-24T06:18:35.500013Z"
    }
   },
   "outputs": [
    {
     "data": {
      "text/plain": [
       "'apple'"
      ]
     },
     "execution_count": 103,
     "metadata": {},
     "output_type": "execute_result"
    }
   ],
   "source": [
    "a.pop()"
   ]
  },
  {
   "cell_type": "code",
   "execution_count": 104,
   "id": "77771b0f",
   "metadata": {
    "ExecuteTime": {
     "end_time": "2022-11-24T06:19:12.761290Z",
     "start_time": "2022-11-24T06:19:12.743476Z"
    }
   },
   "outputs": [
    {
     "data": {
      "text/plain": [
       "'cherry'"
      ]
     },
     "execution_count": 104,
     "metadata": {},
     "output_type": "execute_result"
    }
   ],
   "source": [
    "b.pop()"
   ]
  },
  {
   "cell_type": "markdown",
   "id": "87478ab2",
   "metadata": {},
   "source": [
    "- Hello"
   ]
  },
  {
   "cell_type": "code",
   "execution_count": null,
   "id": "bbb24a08",
   "metadata": {},
   "outputs": [],
   "source": []
  }
 ],
 "metadata": {
  "gist": {
   "data": {
    "description": "Desktop/Godzillla/Untitled2.ipynb",
    "public": true
   },
   "id": ""
  },
  "kernelspec": {
   "display_name": "Python 3 (ipykernel)",
   "language": "python",
   "name": "python3"
  },
  "language_info": {
   "codemirror_mode": {
    "name": "ipython",
    "version": 3
   },
   "file_extension": ".py",
   "mimetype": "text/x-python",
   "name": "python",
   "nbconvert_exporter": "python",
   "pygments_lexer": "ipython3",
   "version": "3.9.13"
  }
 },
 "nbformat": 4,
 "nbformat_minor": 5
}
